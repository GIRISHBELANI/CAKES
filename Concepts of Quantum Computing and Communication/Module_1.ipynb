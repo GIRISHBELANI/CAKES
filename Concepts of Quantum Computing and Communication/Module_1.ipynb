{
 "cells": [
  {
   "cell_type": "markdown",
   "id": "2237dbd7",
   "metadata": {},
   "source": [
    "# <u><b>Module 1 : Basics of Quantum Computing</b></u> "
   ]
  },
  {
   "cell_type": "markdown",
   "id": "19b81370",
   "metadata": {},
   "source": [
    "## <u><b>Lecture 1 : Introduction to Quantum Computers</b></u> "
   ]
  },
  {
   "cell_type": "markdown",
   "id": "c9d45255",
   "metadata": {},
   "source": [
    "![](Screenshots/Screenshot(01).png)"
   ]
  },
  {
   "cell_type": "markdown",
   "id": "0c1fbf29",
   "metadata": {},
   "source": [
    "![](Screenshots/Screenshot(02).png)"
   ]
  },
  {
   "cell_type": "markdown",
   "id": "85b752c0",
   "metadata": {},
   "source": [
    "### an overview of the progression from classical to quantum mechanics, highlighting the concept of discreteness and the first quantum revolution:\n",
    "\n",
    "#### Classical Mechanics:\n",
    "Classical mechanics, formulated by Isaac Newton in the 17th century, describes the motion of macroscopic objects. It is based on Newton's laws of motion and the concept of determinism, where the state of a system at one time uniquely determines its state at any future time.\n",
    "\n",
    "#### Discreteness:\n",
    "Discreteness refers to the idea that certain physical quantities, such as energy or momentum, can only take on specific, quantized values rather than continuous values. This concept challenges the classical notion of continuous quantities.\n",
    "\n",
    "#### First Quantum Revolution:\n",
    "The first quantum revolution occurred in the early 20th century, primarily driven by the work of scientists like Max Planck, Albert Einstein, Niels Bohr, Werner Heisenberg, and Erwin Schrödinger. Key developments during this period include:\n",
    "\n",
    "#### Planck's Quantum Hypothesis (1900):\n",
    "Max Planck proposed that energy is quantized, meaning it can only exist in discrete packets or \"quanta\". This idea laid the foundation for quantum theory.\n",
    "\n",
    "#### Einstein's Photoelectric Effect (1905):\n",
    "Albert Einstein explained the photoelectric effect by proposing that light consists of discrete packets of energy called \"photons\", which helped validate the concept of quantization.\n",
    "\n",
    "#### Bohr's Model of the Hydrogen Atom (1913):\n",
    "Niels Bohr introduced a model of the hydrogen atom based on quantized electron orbits. He proposed that electrons can only occupy certain discrete energy levels, or \"quantum states\", around the nucleus.\n",
    "\n",
    "#### Heisenberg's Uncertainty Principle (1927):\n",
    "Werner Heisenberg formulated the uncertainty principle, which states that it is impossible to simultaneously determine certain pairs of physical properties, such as position and momentum, with arbitrary precision. This fundamentally limits the predictability of microscopic systems.\n",
    "\n",
    "#### Schrödinger's Wave Equation (1926):\n",
    "Erwin Schrödinger developed a wave equation that describes the behavior of quantum mechanical systems. This equation, along with its solutions, provided a mathematical framework for understanding the wave-like nature of particles.\n",
    "\n",
    "These groundbreaking discoveries marked a profound shift in our understanding of the physical world, challenging classical notions of determinism and introducing the probabilistic nature of quantum mechanics. The first quantum revolution laid the groundwork for further developments in quantum theory and its applications in various fields, including quantum computing, quantum cryptography, and quantum chemistry.\n"
   ]
  },
  {
   "cell_type": "markdown",
   "id": "34ac2efc",
   "metadata": {},
   "source": [
    "![](Screenshots/Screenshot(04).png)"
   ]
  },
  {
   "cell_type": "code",
   "execution_count": null,
   "id": "d5341056-f41f-490a-812a-3b9702236ba6",
   "metadata": {},
   "outputs": [],
   "source": []
  },
  {
   "cell_type": "markdown",
   "id": "6513ccc9",
   "metadata": {},
   "source": [
    "### Existing and Futuristic Quantum Technologies\n",
    "\n",
    "#### Quantum Metrology:\n",
    "High-precision measurement using quantum imaging, magnetometry, and radar.\n",
    "This technology is already in existence.\n",
    "#### Quantum Computation:\n",
    "Main goal: Overcome decoherence and build a scalable quantum computer.\n",
    "Current implementations include NMR, superconducting traps, and ion traps.\n",
    "Researchers are working on developing quantum gates and circuits to test algorithms.\n",
    "#### Quantum Communication:\n",
    "Focus on secure communication.\n",
    "Examples: Quantum Key Distribution (QKD), Quantum Secret Sharing (QSS), etc.\n",
    "Commercial solutions exist but scalable quantum communication infrastructure (like air fiber) is a future goal."
   ]
  },
  {
   "cell_type": "markdown",
   "id": "6219d8ae",
   "metadata": {},
   "source": [
    "![](Screenshots/Screenshot(05).png)"
   ]
  },
  {
   "cell_type": "markdown",
   "id": "c8a77880",
   "metadata": {},
   "source": [
    "#### Problem Classes:\n",
    "EXPTIME: Represents problems solvable in exponential time.\n",
    "\n",
    "PSPACE: Refers to problems solvable using polynomial space.\n",
    "\n",
    "QMA: Quantum Merlin-Arthur complexity class.\n",
    "\n",
    "NP: Non-deterministic polynomial time.\n",
    "\n",
    "P: Problems solvable in polynomial time.\n",
    "\n",
    "BQP: Quantum analog of P.\n",
    "\n",
    "QMA-Complete: Quantum analog of NP-Complete.\n",
    "\n"
   ]
  },
  {
   "cell_type": "markdown",
   "id": "e56df656",
   "metadata": {},
   "source": [
    "#### Definition of an Algorithm:\n",
    "An algorithm is a well-defined sequential computational technique that accepts input values and produces the desired output(s) needed to solve a specific problem.\n",
    "\n",
    "Think of it as a set of instructions or rules guiding a computer or software in performing a particular task or solving a problem.\n",
    "\n",
    "An algorithm can be understood as a logical step-by-step procedure, acting as a blueprint for programmers.\n",
    "\n",
    "#### Characteristics and Importance:\n",
    "Efficiency: Algorithms perform tasks quickly and accurately, making them essential for calculations, data processing, and complex operations.\n",
    "\n",
    "Consistency: They produce consistent results every time they are executed, crucial for dealing with large data or complex processes.\n",
    "\n",
    "Scalability: Algorithms can handle large datasets or complex problems, making them useful for various applications.\n",
    "\n",
    "Automation: They automate repetitive tasks, freeing up time for other activities.\n",
    "Standardization: Algorithms can be shared and standardized across teams or organizations.\n",
    "\n",
    "#### Real-Life Examples:\n",
    "Cooking a Recipe: Just like following a recipe to turn raw ingredients into a delicious dish, an algorithm provides a procedure to achieve the desired output.\n",
    "\n",
    "Clock Mechanism: Ever wondered how a clock keeps ticking? There’s an algorithm behind setting those nuts and bolts to move the hands every minute or hour.\n",
    "\n",
    "Sorting Algorithms: Bubble Sort, Insertion Sort, and others organize data in specific formats.\n",
    "\n",
    "#### Algorithmic Complexity:\n",
    "The complexity of an algorithm refers to the amount of computing resources (time and memory) it requires to run.\n",
    "It’s crucial to predict how fast an algorithm will run and how much memory it will need before writing the code.\n",
    "Complexity is often measured asymptotically as input size approaches infinity."
   ]
  },
  {
   "cell_type": "markdown",
   "id": "4133216f-70d7-4b35-b770-daec43ffb4e4",
   "metadata": {},
   "source": [
    "#### Quantum Mechanics, Hilbert Space and Qubits\n",
    "\n",
    "https://medium.com/analytics-vidhya/quantum-mechanics-hilbert-space-and-qubits-e411a9bfc6d2"
   ]
  },
  {
   "cell_type": "code",
   "execution_count": null,
   "id": "8d71d0d3-34cd-4e22-afa7-66da859cada9",
   "metadata": {},
   "outputs": [],
   "source": []
  },
  {
   "cell_type": "markdown",
   "id": "f286e41c",
   "metadata": {},
   "source": [
    "![](Screenshots/Screenshot(06).png)"
   ]
  },
  {
   "cell_type": "markdown",
   "id": "b26a2b8c",
   "metadata": {},
   "source": [
    "![](Screenshots/Screenshot(07).png)"
   ]
  },
  {
   "cell_type": "markdown",
   "id": "d78acd07",
   "metadata": {},
   "source": [
    "![](Screenshots/Screenshot(08).png)"
   ]
  },
  {
   "cell_type": "markdown",
   "id": "67caf54e",
   "metadata": {},
   "source": [
    "![](Screenshots/Screenshot(09).png)"
   ]
  },
  {
   "cell_type": "code",
   "execution_count": null,
   "id": "59b18e05",
   "metadata": {},
   "outputs": [],
   "source": []
  },
  {
   "cell_type": "code",
   "execution_count": null,
   "id": "ccbd2201",
   "metadata": {},
   "outputs": [],
   "source": []
  },
  {
   "cell_type": "markdown",
   "id": "1e321615",
   "metadata": {},
   "source": [
    "## <u><b>Lecture 2 : Linear Algebra</b></u> "
   ]
  },
  {
   "cell_type": "markdown",
   "id": "65116de0",
   "metadata": {},
   "source": [
    "![](Screenshots/Screenshot(10).png)"
   ]
  },
  {
   "cell_type": "markdown",
   "id": "a0a47a5c-957a-4631-bed7-d5f4b2032935",
   "metadata": {},
   "source": [
    "#### Bra-ket notation:\n",
    "\n",
    "https://medium.com/@Brain_Boost/quantum-mechanics-what-is-bra-ket-notation-a69b505f9cc4\n",
    "\n",
    "https://logosconcarne.com/2021/03/22/qm-101-bra-ket-notation/\n"
   ]
  },
  {
   "cell_type": "markdown",
   "id": "19c02f79",
   "metadata": {},
   "source": [
    "![](Screenshots/Screenshot(11).png)"
   ]
  },
  {
   "cell_type": "markdown",
   "id": "1da569f7",
   "metadata": {},
   "source": [
    "![](Screenshots/Screenshot(12).png)"
   ]
  },
  {
   "cell_type": "markdown",
   "id": "d4c99f5b",
   "metadata": {},
   "source": [
    "![](Screenshots/Screenshot(13).png)"
   ]
  },
  {
   "cell_type": "markdown",
   "id": "e97d4a48",
   "metadata": {},
   "source": [
    "![](Screenshots/Screenshot(14).png)"
   ]
  },
  {
   "cell_type": "markdown",
   "id": "f0a4536f-33a5-49d4-b44c-cc2b997e95c3",
   "metadata": {},
   "source": [
    "#### Inner product, Outer Product and Tensor Product\n",
    "\n",
    "https://andisama.medium.com/qubit-an-intuition-2-inner-product-outer-product-and-tensor-product-in-bra-ket-notation-9d598cbd6bc"
   ]
  },
  {
   "cell_type": "markdown",
   "id": "58d15180",
   "metadata": {},
   "source": [
    "![](Screenshots/Screenshot(15).png)"
   ]
  },
  {
   "cell_type": "markdown",
   "id": "6b8e025d",
   "metadata": {},
   "source": [
    "![](Screenshots/Screenshot(17).png)"
   ]
  },
  {
   "cell_type": "markdown",
   "id": "25f8266c",
   "metadata": {},
   "source": [
    "![](Screenshots/Screenshot(18).png)"
   ]
  },
  {
   "cell_type": "markdown",
   "id": "e6328834-d729-42c3-a38b-deffde2134b4",
   "metadata": {},
   "source": [
    "Hadamard Gate - https://www.irjmets.com/uploadedfiles/paper/volume2/issue_5_may_2020/1275/1628083030.pdf"
   ]
  },
  {
   "cell_type": "markdown",
   "id": "58d1f54d-c86f-4966-b91b-5b6a19363c86",
   "metadata": {},
   "source": [
    "Superposition - https://scienceexchange.caltech.edu/topics/quantum-science-explained/quantum-superposition"
   ]
  },
  {
   "cell_type": "markdown",
   "id": "d0f1ee97-40db-4ec3-b9d9-f269bf594e1e",
   "metadata": {},
   "source": [
    "### Outer Product in Quantum Computing\n",
    "The outer product is a fundamental operation in quantum mechanics. It allows us to combine two quantum states to create a composite system. Mathematically, if we have two quantum states represented by vectors |ψ⟩ and |φ⟩, their outer product yields a new state:\n",
    "\n",
    "[ |ψ⟩ ⊗ |φ⟩ ]\n",
    "\n",
    "In this expression, ⊗ denotes the outer product. The resulting state is a composite state that describes the joint behavior of the two original states.\n",
    "\n",
    "### Quantum Gates - \n",
    "Quantum gates are analogous to classical logic gates but operate on quantum bits (qubits). They manipulate the quantum state of a qubit. Some common quantum gates include:\n",
    "\n",
    "#### 1. Hadamard Gate (H): \n",
    "Creates superpositions by transforming the basis states |0⟩ and |1⟩ into equal-weighted superpositions.\n",
    "\n",
    "#### 2. Pauli-X Gate (X): \n",
    "Flips the state of a qubit (similar to a classical NOT gate).\n",
    "\n",
    "#### 3. CNOT Gate (Controlled-X): \n",
    "Entangles two qubits, where the second qubit’s state depends on the first qubit’s state.\n",
    "\n",
    "#### 4. Toffoli Gate (CCNOT): \n",
    "A three-qubit gate that performs a controlled-controlled-X operation.\n",
    "\n",
    "### https://en.wikipedia.org/wiki/Quantum_logic_gate\n"
   ]
  },
  {
   "cell_type": "markdown",
   "id": "517d011c",
   "metadata": {},
   "source": [
    "![](Screenshots/Screenshot(19).png)"
   ]
  },
  {
   "cell_type": "markdown",
   "id": "f89b0126-afbd-4ab8-a5fc-ef8239395851",
   "metadata": {},
   "source": [
    "![](Screenshots/Quiz(1.1).png)"
   ]
  },
  {
   "cell_type": "markdown",
   "id": "c1e9a71b-f2af-4cdb-8662-ccd38702e784",
   "metadata": {},
   "source": [
    "![](Screenshots/Quiz(1.2).png)"
   ]
  },
  {
   "cell_type": "markdown",
   "id": "c2cf0594-9ee7-4685-967b-201859be9b03",
   "metadata": {},
   "source": [
    "![](Screenshots/Screenshot(20).png)"
   ]
  },
  {
   "cell_type": "markdown",
   "id": "b99258e3-2e9e-46a0-a679-ea8309bcfe7a",
   "metadata": {},
   "source": [
    "![](Screenshots/Screenshot(21).png)"
   ]
  },
  {
   "cell_type": "markdown",
   "id": "655c2da5-f774-41a1-97dc-de574f2d2dd9",
   "metadata": {},
   "source": [
    "inner product ==> scalar\n",
    "\n",
    "outer product ==> square matrix"
   ]
  },
  {
   "cell_type": "markdown",
   "id": "2a1a0d9e-73fa-43a9-ac12-ffe054b4915a",
   "metadata": {},
   "source": [
    "![](Screenshots/Screenshot(22).png)"
   ]
  },
  {
   "cell_type": "markdown",
   "id": "918c9ea9-3f6b-4ac5-814a-4549189c4ccc",
   "metadata": {},
   "source": [
    "![](Screenshots/Screenshot(23).png)"
   ]
  },
  {
   "cell_type": "markdown",
   "id": "8bb04d04-c2cd-44ab-9a17-05e3ce836939",
   "metadata": {},
   "source": [
    "![](Screenshots/Screenshot(24).png)"
   ]
  },
  {
   "cell_type": "markdown",
   "id": "096822ec-477a-4acd-8b5e-097525fc154c",
   "metadata": {},
   "source": [
    "![](Screenshots/Screenshot(25).png)"
   ]
  },
  {
   "cell_type": "markdown",
   "id": "c407a26a-a594-40b7-9fbd-2aed80e5d563",
   "metadata": {},
   "source": [
    "![](Screenshots/Screenshot(26).png)"
   ]
  },
  {
   "cell_type": "markdown",
   "id": "b6e2a91b-5f17-421c-b8b5-9a18ec83aaa8",
   "metadata": {},
   "source": [
    "![](Screenshots/Screenshot(27).png)"
   ]
  },
  {
   "cell_type": "markdown",
   "id": "5d4a66f6-417b-4de6-8807-ccf720f27c1b",
   "metadata": {},
   "source": [
    "![](Screenshots/Screenshot(28).png)"
   ]
  },
  {
   "cell_type": "markdown",
   "id": "55307e33-0f8d-4e4f-afeb-578dff7509cc",
   "metadata": {},
   "source": [
    "![](Screenshots/Screenshot(29).png)"
   ]
  },
  {
   "cell_type": "markdown",
   "id": "bf32051b-5641-498b-a163-8e14a8431b4b",
   "metadata": {},
   "source": [
    "![](Screenshots/Screenshot(30).png)"
   ]
  },
  {
   "cell_type": "markdown",
   "id": "2f871cb2-b380-40bf-9ab1-56a244707c3f",
   "metadata": {},
   "source": [
    "![](Screenshots/Screenshot(31).png)"
   ]
  },
  {
   "cell_type": "markdown",
   "id": "8fcd68f3-ac75-4978-b58d-06cf61ab6bdf",
   "metadata": {},
   "source": [
    "#### SWAP Gate\n",
    "\n",
    "The SWAP gate is a logic gate in quantum computing that swaps the states of two qubits.\n",
    "\n",
    "The diagram below shows how a SWAP gate is represented in quantum circuits.\n",
    "\n",
    "![swap-gate-symbol](Screenshots/swap-gate-symbol-1.png)\n",
    "\n",
    "It can also be represented as\n",
    "\n",
    "![swap-gate-alternate-symbol](Screenshots/swap-gate-symbol-2.png)\n",
    "\n",
    "The process of exchanging two states can be achieved using three CNOT gates, as shown below.\n",
    "\n",
    "![making-a-swap-gate-from-cnot-gates](Screenshots/making-a-swap-gate-from-cnot-gates.png)\n",
    "\n",
    "making-a-swap-gate-from-cnot-gates\n",
    "Thus, the SWAP gate symbols can be thought of as just convenient shorthand for this sequence of gates.\n",
    "\n",
    "Symbolically, we write this action as\n",
    "\n",
    "$\\text{SWAP} (|\\phi_1\\rangle \\otimes |\\phi_2\\rangle) = |\\phi_2\\rangle \\otimes |\\phi_1\\rangle$\n",
    "\n",
    "The SWAP gate can be represented in matrix form as\n",
    "\n",
    "$ \\text{SWAP} \\equiv \\begin{bmatrix}\n",
    "1 & 0 & 0 & 0 \\\\\n",
    "0 & 0 & 1 & 0 \\\\\n",
    "0 & 1 & 0 & 0 \\\\\n",
    "0 & 0 & 0 & 1 \\\\\n",
    "\\end{bmatrix}$\n",
    "\n",
    "The SWAP gate is frequently used in hardware where not all connections between qubits are possible to allow linking non-adjacent qubits. It may also appear as a necessary part in building the quantum Fourier transform or in other routines such as the SWAP test."
   ]
  },
  {
   "cell_type": "code",
   "execution_count": 2,
   "id": "554d89b5-08b4-4d00-a515-71b064fdbe1a",
   "metadata": {},
   "outputs": [
    {
     "data": {
      "image/png": "[encoded data removed]",
      "text/plain": [
       "<Figure size 203.683x200.667 with 1 Axes>"
      ]
     },
     "execution_count": 2,
     "metadata": {},
     "output_type": "execute_result"
    }
   ],
   "source": [
    "from qiskit import QuantumCircuit\n",
    "from qiskit.visualization import circuit_drawer\n",
    "\n",
    "# Create a quantum circuit\n",
    "qc = QuantumCircuit(2)\n",
    "qc.swap(0, 1)  # Apply SWAP gate\n",
    "\n",
    "# Draw the circuit\n",
    "circuit_drawer(qc, output='mpl')\n"
   ]
  },
  {
   "cell_type": "markdown",
   "id": "819c96ea-401b-4687-b7d3-4e62d11d36ce",
   "metadata": {},
   "source": [
    "#### CNOT Gate\n",
    "\n",
    "The CNOT gate is two-qubit operation, where the first qubit is usually referred to as the control qubit and the second qubit as the target qubit. Expressed in basis states, the CNOT gate:\n",
    "\n",
    "    leaves the control qubit unchanged and performs a Pauli-X gate on the target qubit when the control qubit is in state $∣1⟩$;\n",
    "    leaves the target qubit unchanged when the control qubit is in state $∣0⟩$.\n",
    "\n",
    "$CNOT = \\begin{pmatrix}\n",
    "1 & 0 & 0 & 0 \\\\\n",
    "0 & 1 & 0 & 0 \\\\\n",
    "0 & 0 & 0 & 1 \\\\\n",
    "0 & 0 & 1 & 0 \\\\\n",
    "\\end{pmatrix}$\n",
    "\n",
    "A traditional NOT gate inverts the input: if the input is 0, the output is 1. In a quantum system, we can use a CNOT Gate, or Controlled Quantum Gate. In this case, we have an input qubit and a target cubit. The CNOT gate can be used to create an entangled state into the two-qubit model. There are several variations on the CNOT gate, and they are used to generate a set of logic gates for quantum computing.\n",
    "\n",
    "In the CNOT gate, one qubit is a control qubit, and the second is the target qubit.\n",
    "\n",
    "Figure shows a schematic of the quantum circuit. The circle with the cross indicates entanglement.\n",
    "\n",
    "![CNOT-gate](Screenshots/CNOT-gate.png)\n",
    "\n"
   ]
  },
  {
   "cell_type": "markdown",
   "id": "8c865c70-a668-4a8c-9c17-e1a97e7049e4",
   "metadata": {},
   "source": [
    "![](Screenshots/Screenshot(32).png)"
   ]
  },
  {
   "cell_type": "markdown",
   "id": "ecd89b5f-7511-4d7a-bb50-b0b9013b0727",
   "metadata": {},
   "source": [
    "![](Screenshots/Screenshot(33).png)"
   ]
  },
  {
   "cell_type": "markdown",
   "id": "104c16cd-7e37-46bc-8824-a594958b5ac9",
   "metadata": {},
   "source": [
    "![](Screenshots/Explain(1).png)       ![](Screenshots/Explain(2).png)"
   ]
  },
  {
   "cell_type": "markdown",
   "id": "e04911ed-3909-45cb-9d65-d3fdd9025061",
   "metadata": {},
   "source": [
    "#### Cloning and the Uncertainty Principle:\n",
    "\n",
    "Cloning in quantum mechanics refers to the hypothetical process of creating an identical copy of a quantum state. If cloning were allowed, it would violate the uncertainty principle because we could clone a particle's state with perfect precision, thus violating the limits imposed by the uncertainty principle.\n",
    "\n",
    "In summary, the Schrödinger equation describes the behavior of quantum systems, operators and eigenvalues represent physical observables, and the uncertainty principle imposes limits on our ability to measure certain pairs of observables simultaneously."
   ]
  },
  {
   "cell_type": "markdown",
   "id": "0af338e4-e75f-48aa-acf9-18412f593525",
   "metadata": {},
   "source": [
    "### Example of Uncertainty Principle\n",
    "\n",
    "![Example of Uncertainty Principle](Screenshots/uncertainty.png)"
   ]
  },
  {
   "cell_type": "markdown",
   "id": "07715405-d822-4588-be60-acfe664d0b19",
   "metadata": {},
   "source": [
    "![](Screenshots/Screenshot(34).png)"
   ]
  },
  {
   "cell_type": "markdown",
   "id": "3e46b221-7e86-45a7-a993-630731327fcd",
   "metadata": {},
   "source": [
    "![](Screenshots/Explain(3).png)       ![](Screenshots/Explain(4).png)"
   ]
  },
  {
   "cell_type": "code",
   "execution_count": null,
   "id": "1ffc9c4d-3fd6-493c-b566-728e60160965",
   "metadata": {},
   "outputs": [],
   "source": []
  },
  {
   "cell_type": "markdown",
   "id": "2dbc8ff3-8015-4449-9bcf-af3cef0efbf6",
   "metadata": {},
   "source": [
    "### Operators v/s Gates\n",
    "\n",
    "![](Screenshots/Explain(5).png)       ![](Screenshots/Explain(6).png)"
   ]
  },
  {
   "cell_type": "markdown",
   "id": "96a0e6d7-2890-4db5-b9e3-f198b12daef9",
   "metadata": {},
   "source": [
    "![](Screenshots/Screenshot(35).png)"
   ]
  },
  {
   "cell_type": "markdown",
   "id": "452fd1d8-3ff7-4ef2-b3fd-409b30584492",
   "metadata": {},
   "source": [
    "### Some examples of operators in quantum mechanics:\n",
    "\n",
    "![](Screenshots/Explain(7).png) "
   ]
  },
  {
   "cell_type": "markdown",
   "id": "4acdee40-4f55-4a44-819a-932d9dc16851",
   "metadata": {},
   "source": [
    "![](Screenshots/Screenshot(36).png)"
   ]
  },
  {
   "cell_type": "markdown",
   "id": "cb62822a-19f8-4413-abf5-dde3c65dd811",
   "metadata": {},
   "source": [
    "![](Screenshots/Pauli-Gates.png)"
   ]
  },
  {
   "cell_type": "markdown",
   "id": "0079e8ce-5b70-41e1-9f9f-c3aef3556d55",
   "metadata": {},
   "source": [
    "![](Screenshots/Screenshot(37).png)"
   ]
  },
  {
   "cell_type": "markdown",
   "id": "5f1ce6b1-e612-4541-b3fb-30401c8fd2c2",
   "metadata": {},
   "source": [
    "![](Screenshots/Screenshot(38).png)"
   ]
  },
  {
   "cell_type": "markdown",
   "id": "9ae520dc-74ca-4ac2-8ecf-58730b0574e1",
   "metadata": {},
   "source": [
    "![](Screenshots/Screenshot(39).png)"
   ]
  },
  {
   "cell_type": "markdown",
   "id": "23718048-8b13-4063-8f68-bfa417a51fa6",
   "metadata": {},
   "source": [
    "![](Screenshots/Screenshot(40).png)"
   ]
  },
  {
   "cell_type": "markdown",
   "id": "668eaa73-cb86-4876-a4e0-2a3e15414379",
   "metadata": {},
   "source": [
    "![](Screenshots/Screenshot(41).png)"
   ]
  },
  {
   "cell_type": "markdown",
   "id": "f12c20ad-44d7-45d9-beb0-12e6ca685f69",
   "metadata": {},
   "source": [
    "![](Screenshots/Screenshot(42).png)"
   ]
  },
  {
   "cell_type": "markdown",
   "id": "9916019f-ed74-42f9-874d-78b51205b712",
   "metadata": {},
   "source": [
    "![](Screenshots/Screenshot(43).png)"
   ]
  },
  {
   "cell_type": "markdown",
   "id": "b1176570-82b2-476c-ad31-1f2029c680dc",
   "metadata": {},
   "source": [
    "![](Screenshots/Screenshot(44).png)"
   ]
  },
  {
   "cell_type": "markdown",
   "id": "4085f939-d7b9-4e23-ba54-47a8c6d85192",
   "metadata": {},
   "source": [
    "![](Screenshots/Screenshot(45).png)"
   ]
  },
  {
   "cell_type": "markdown",
   "id": "aeb269f9-55c6-4b75-ac3e-c46dc7a18cd2",
   "metadata": {},
   "source": [
    "### Quantum Measurement\n",
    "#### https://andisama.medium.com/qubit-an-intuition-3-quantum-measurement-full-and-partial-qubits-969340a6fb3"
   ]
  },
  {
   "cell_type": "markdown",
   "id": "9c6fc4e1-5aca-43a5-84d7-93efac6e49cd",
   "metadata": {},
   "source": [
    "![](Screenshots/Screenshot(46).png)"
   ]
  },
  {
   "cell_type": "markdown",
   "id": "fe3444d9-6388-4eb9-b66f-1439f62e1c03",
   "metadata": {},
   "source": [
    "![](Screenshots/Quiz(2.1).png)"
   ]
  },
  {
   "cell_type": "markdown",
   "id": "5932ca70-1878-4b50-b6fc-4b38ae38df26",
   "metadata": {},
   "source": [
    "![](Screenshots/Quiz(2.2).png)"
   ]
  },
  {
   "cell_type": "markdown",
   "id": "66f40a60-6f4d-4403-b4be-d16704e67ace",
   "metadata": {},
   "source": [
    "![](Screenshots/Screenshot(47).png)"
   ]
  },
  {
   "cell_type": "markdown",
   "id": "bcbeb0c0-7093-4660-9bd8-10839a070349",
   "metadata": {},
   "source": [
    "#### Qubits\n",
    "\n",
    "https://www.quantum-inspire.com/kbase/what-is-a-qubit/\n",
    "\n",
    "https://www.aliroquantum.com/blog/qn-basics-introduction-to-qubits-with-real-world-examples"
   ]
  },
  {
   "cell_type": "markdown",
   "id": "f8d32a42-fb3c-43c1-8a50-c56cdc5c0609",
   "metadata": {},
   "source": [
    "![](Screenshots/Screenshot(48).png)"
   ]
  },
  {
   "cell_type": "markdown",
   "id": "2f0dd64d-f056-4928-a067-11324462cd8a",
   "metadata": {},
   "source": [
    "### Mach Zehnder Interferometer -\n",
    "#### https://en.wikipedia.org/wiki/Mach%E2%80%93Zehnder_interferometer"
   ]
  },
  {
   "cell_type": "markdown",
   "id": "282394b4-c535-4ef3-92ed-52d3b91c3259",
   "metadata": {},
   "source": [
    "![](Screenshots/Screenshot(49).png)"
   ]
  },
  {
   "cell_type": "markdown",
   "id": "482e1512-0d32-4907-8582-5a2e7585d82f",
   "metadata": {},
   "source": [
    "![](Screenshots/Screenshot(50).png)"
   ]
  },
  {
   "cell_type": "markdown",
   "id": "55ff558c-b1d3-491a-852a-9d534b4ef3ca",
   "metadata": {},
   "source": [
    "![](Screenshots/Screenshot(51).png)"
   ]
  },
  {
   "cell_type": "markdown",
   "id": "dee950d9-29a8-4c38-a137-41cb77112e95",
   "metadata": {},
   "source": [
    "![](Screenshots/Screenshot(52).png)"
   ]
  },
  {
   "cell_type": "markdown",
   "id": "e0fb709b-f220-41a5-ad0e-7970035d9d72",
   "metadata": {},
   "source": [
    "![](Screenshots/Screenshot(53).png)"
   ]
  },
  {
   "cell_type": "code",
   "execution_count": null,
   "id": "0573a86e-4d8b-46e7-af29-11aad0439b12",
   "metadata": {},
   "outputs": [],
   "source": []
  },
  {
   "cell_type": "markdown",
   "id": "905718d8-3be5-4cff-b891-6b38d5657be0",
   "metadata": {},
   "source": [
    "![](Screenshots/Screenshot(54).png)"
   ]
  },
  {
   "cell_type": "markdown",
   "id": "696c0b0e-117d-4440-a951-a2aa09ee214e",
   "metadata": {},
   "source": [
    "![](Screenshots/Screenshot(55).png)"
   ]
  },
  {
   "cell_type": "markdown",
   "id": "a19ff1e5-be5f-4468-b645-4039cd503a5f",
   "metadata": {},
   "source": [
    "![](Screenshots/Screenshot(56).png)"
   ]
  },
  {
   "cell_type": "markdown",
   "id": "0368ca56-a1a4-481a-bf22-b5a5b10b47a6",
   "metadata": {},
   "source": [
    "![](Screenshots/Quiz(3.1).png)"
   ]
  },
  {
   "cell_type": "markdown",
   "id": "3cadfde9-07ec-4caa-b570-9249717633b9",
   "metadata": {},
   "source": [
    "![](Screenshots/Quiz(3.2).png)"
   ]
  },
  {
   "cell_type": "markdown",
   "id": "d4457334-4015-4c5e-b2d7-8b3f3ff5b337",
   "metadata": {},
   "source": [
    "![](Screenshots/Quiz(3.3).png)"
   ]
  },
  {
   "cell_type": "markdown",
   "id": "d597a07b-9d07-4fe8-ae70-6243aff2b721",
   "metadata": {},
   "source": [
    "![](Screenshots/Screenshot(57).png)"
   ]
  },
  {
   "cell_type": "markdown",
   "id": "e1e0300f-e760-47a3-98d3-18825a3aed39",
   "metadata": {},
   "source": [
    "![](Screenshots/Screenshot(58).png)"
   ]
  },
  {
   "cell_type": "markdown",
   "id": "5b1a84cc-3624-42ab-8d7a-dc5ee0396eba",
   "metadata": {},
   "source": [
    "![](Screenshots/Screenshot(59).png)"
   ]
  },
  {
   "cell_type": "markdown",
   "id": "f4858eef-e300-42d3-a156-02caca9e16bb",
   "metadata": {},
   "source": [
    "![](Screenshots/Screenshot(60).png)"
   ]
  },
  {
   "cell_type": "markdown",
   "id": "a4e10849-55f8-4731-9729-fe0da6ca8085",
   "metadata": {},
   "source": [
    "Several different physical implementations of qubits are possible. A number of examples are the polarizations of a photon, two of the (multiple) discrete energy levels of an ion, a superconducting Transmon qubit, the nuclear spin states of an atom or the spin states of an electron."
   ]
  },
  {
   "cell_type": "markdown",
   "id": "844fbef2-d7df-4bfb-976d-3bcdc501829d",
   "metadata": {},
   "source": [
    "![](Screenshots/Screenshot(61).png)"
   ]
  },
  {
   "cell_type": "markdown",
   "id": "5865e4d9-6e02-4175-ad47-914ad2046e49",
   "metadata": {},
   "source": [
    "![](Screenshots/Screenshot(62).png)"
   ]
  },
  {
   "cell_type": "markdown",
   "id": "63811fad-7244-4bea-9cc6-7346b2c90e05",
   "metadata": {},
   "source": [
    "![](Screenshots/Screenshot(63).png)"
   ]
  },
  {
   "cell_type": "markdown",
   "id": "a409f67f-39a7-4b41-94e5-84d1b3ce4b1f",
   "metadata": {},
   "source": [
    "![](Screenshots/Screenshot(64).png)"
   ]
  },
  {
   "cell_type": "markdown",
   "id": "aec8b543-5c69-4385-a547-1d9552e2d413",
   "metadata": {},
   "source": [
    "![](Screenshots/Screenshot(65).png)"
   ]
  },
  {
   "cell_type": "markdown",
   "id": "34b8d0c0-0aef-4d01-93eb-afc9bca2a780",
   "metadata": {},
   "source": [
    "![](Screenshots/Screenshot(66).png)"
   ]
  },
  {
   "cell_type": "markdown",
   "id": "6cbc74fc-b31d-4ffd-979b-e67ac2ed47db",
   "metadata": {},
   "source": [
    "## Experiment 1\n",
    "\n",
    "#### When the diagonal state $\\frac{|0\\rangle + |1\\rangle}{\\sqrt{2}}$ passes through the analyzer $|1\\rangle\\langle 1|$, we compute the inner product between the state and the analyzer:\n",
    "\n",
    "### $\\left(\\frac{|0\\rangle + |1\\rangle}{\\sqrt{2}}\\right) \\cdot |1\\rangle\\langle 1| = \\left(\\frac{|0\\rangle\\langle 1|1\\rangle + |1\\rangle\\langle 1|1\\rangle}{\\sqrt{2}}\\right)$\n",
    "\n",
    "#### Since ⟨1∣1⟩=1, this simplifies to:\n",
    "\n",
    "### $ \\left(\\frac{|0\\rangle\\langle 1|1\\rangle + |1\\rangle\\langle 1|1\\rangle}{\\sqrt{2}}\\right) = \\frac{|1\\rangle}{\\sqrt{2}}$\n",
    " \n",
    "#### So, the result after passing through the analyzer ∣1⟩⟨1∣ is $\\frac{|1\\rangle}{\\sqrt{2}}$\n"
   ]
  },
  {
   "cell_type": "code",
   "execution_count": null,
   "id": "ebad7c38-768b-4831-9c5b-b353909774c2",
   "metadata": {},
   "outputs": [],
   "source": []
  },
  {
   "cell_type": "markdown",
   "id": "1af5b20e-a74b-4a03-b7c6-7a5393880174",
   "metadata": {},
   "source": [
    "## Experiment 2\n",
    "\n",
    "#### When the diagonal state $\\frac{|0\\rangle + |1\\rangle}{\\sqrt{2}}$ passes through the analyzer $|0\\rangle\\langle 0|$, we compute the inner product between the state and the analyzer:\n",
    "\n",
    "### $\\left(\\frac{|0\\rangle + |1\\rangle}{\\sqrt{2}}\\right) \\cdot |0\\rangle\\langle 0| = \\left(\\frac{|0\\rangle\\langle 0|0\\rangle + |1\\rangle\\langle 0|0\\rangle}{\\sqrt{2}}\\right)$\n",
    "\n",
    "#### Since ⟨0∣0⟩=1 and ⟨1∣0⟩=0, this simplifies to:\n",
    "\n",
    "### $ \\left(\\frac{|0\\rangle\\langle 0|0\\rangle + |1\\rangle\\langle 0|0\\rangle}{\\sqrt{2}}\\right) = \\frac{|0\\rangle}{\\sqrt{2}}$\n",
    " \n",
    "#### So, the result after passing through the analyzer ∣0⟩⟨0∣ is $\\frac{|0\\rangle}{\\sqrt{2}}$\n"
   ]
  },
  {
   "cell_type": "code",
   "execution_count": null,
   "id": "1e1e2395-e7e2-43e9-8063-fe9bb0b69582",
   "metadata": {},
   "outputs": [],
   "source": []
  },
  {
   "cell_type": "markdown",
   "id": "38813718-4dc2-44a7-a872-b0c3254b889e",
   "metadata": {},
   "source": [
    "## Experiment 3\n",
    "\n",
    "#### Take quantum state ∣1⟩ and use a diagonal analyser with addition of 45 degree\n",
    "\n",
    "#### To apply a diagonal analyzer with an addition of 45 degrees to the quantum state ∣1⟩, we first need to express the diagonal analyzer in the computational basis.\n",
    "\n",
    "#### The diagonal analyzer with an addition of 45 degrees can be represented as:\n",
    "\n",
    "#### $ A = \\begin{pmatrix} \\cos(45^\\circ) & -\\sin(45^\\circ) \\\\ \\sin(45^\\circ) & \\cos(45^\\circ) \\end{pmatrix} = \\frac{1}{\\sqrt{2}} \\begin{pmatrix} 1 & -1 \\\\ 1 & 1 \\end{pmatrix}$\n",
    "\n",
    "#### Now, we apply the quantum state ∣1⟩ to the analyzer:\n",
    "\n",
    "#### $ |1\\rangle = \\begin{pmatrix} 0 \\\\ 1 \\end{pmatrix}$\n",
    "\n",
    "#### $ A \\cdot |1\\rangle = \\frac{1}{\\sqrt{2}} \\begin{pmatrix} 1 & -1 \\\\ 1 & 1 \\end{pmatrix} \\begin{pmatrix} 0 \\\\ 1 \\end{pmatrix} = \\frac{1}{\\sqrt{2}} \\begin{pmatrix} -1 \\\\ 1 \\end{pmatrix} = \\frac{|0\\rangle + |1\\rangle}{\\sqrt{2}}$\n",
    "\n",
    "#### So, when the quantum state ∣1⟩ passes through the diagonal analyzer with an addition of 45 degrees, the resulting state is $\\frac{|0\\rangle + |1\\rangle}{\\sqrt{2}}$\n"
   ]
  },
  {
   "cell_type": "markdown",
   "id": "c97225f1-5b20-4857-a1f0-43dc19044bb8",
   "metadata": {},
   "source": [
    "![](Screenshots/Quiz(4.1).png)"
   ]
  },
  {
   "cell_type": "markdown",
   "id": "378083a6-3b6f-40c4-a824-9e9b60de4253",
   "metadata": {},
   "source": [
    "![](Screenshots/Quiz(4.2).png)"
   ]
  },
  {
   "cell_type": "markdown",
   "id": "3ab579bb-32d7-42be-9001-741dc668836d",
   "metadata": {},
   "source": [
    "![](Screenshots/Screenshot(67).png)"
   ]
  },
  {
   "cell_type": "markdown",
   "id": "264a7320-a6b0-4e0c-b4a1-1d700a2d3862",
   "metadata": {},
   "source": [
    "![](Screenshots/Screenshot(68).png)"
   ]
  },
  {
   "cell_type": "markdown",
   "id": "bd93560b-c908-47a7-8210-e17120178c8f",
   "metadata": {},
   "source": [
    "### IBM Quantum Composer -\n",
    "https://learning.quantum.ibm.com/tutorial/explore-gates-and-circuits-with-the-quantum-composer#what-is-it"
   ]
  },
  {
   "cell_type": "markdown",
   "id": "35fe7bf6-1f5c-4d28-97ae-3e638f478120",
   "metadata": {},
   "source": [
    "![](Screenshots/Screenshot(69).png)"
   ]
  },
  {
   "cell_type": "markdown",
   "id": "a13758e5-a6ac-4df9-ac4d-ddf196a3caf7",
   "metadata": {},
   "source": [
    "### Build Quantum Circuit -\n",
    "https://learning.quantum.ibm.com/tutorial/explore-gates-and-circuits-with-the-quantum-composer#build-edit-and-inspect-quantum-circuits"
   ]
  },
  {
   "cell_type": "markdown",
   "id": "d6094ea0-b8fa-46fe-a91d-a2f1855d71cb",
   "metadata": {},
   "source": [
    "![](Screenshots/Screenshot(70).png)"
   ]
  },
  {
   "cell_type": "markdown",
   "id": "1906aef2-3f08-4d2c-917e-dcbabda27c56",
   "metadata": {},
   "source": [
    "### Run Circuits\n",
    "https://learning.quantum.ibm.com/tutorial/explore-gates-and-circuits-with-the-quantum-composer#run-circuits-and-view-results\n",
    "\n",
    "### Visualizations -\n",
    "https://learning.quantum.ibm.com/tutorial/explore-gates-and-circuits-with-the-quantum-composer#visualizations"
   ]
  },
  {
   "cell_type": "markdown",
   "id": "29ac6509-73f7-43e7-911e-c890756e57b6",
   "metadata": {},
   "source": [
    "![](Screenshots/Screenshot(71).png)"
   ]
  },
  {
   "cell_type": "markdown",
   "id": "0ae9f5b1-3ff3-4fff-94b0-a42d83c62ad5",
   "metadata": {},
   "source": [
    "### Composer operations\n",
    "https://learning.quantum.ibm.com/tutorial/explore-gates-and-circuits-with-the-quantum-composer#composer-operations-glossary"
   ]
  },
  {
   "cell_type": "markdown",
   "id": "ebb4a8ac-2392-4ca6-9aa5-c6327426e28a",
   "metadata": {},
   "source": [
    "![](Screenshots/Screenshot(72).png)"
   ]
  },
  {
   "cell_type": "markdown",
   "id": "4ce6301b-6cc8-43a3-b496-852d6c7bcc7e",
   "metadata": {},
   "source": []
  },
  {
   "cell_type": "markdown",
   "id": "a3060fcd-ed11-410d-b690-86f71d4b3d2d",
   "metadata": {},
   "source": []
  },
  {
   "cell_type": "markdown",
   "id": "a01681e9-f55c-4216-bda6-b32fa0d115cc",
   "metadata": {},
   "source": []
  }
 ],
 "metadata": {
  "kernelspec": {
   "display_name": "Python 3 (ipykernel)",
   "language": "python",
   "name": "python3"
  },
  "language_info": {
   "codemirror_mode": {
    "name": "ipython",
    "version": 3
   },
   "file_extension": ".py",
   "mimetype": "text/x-python",
   "name": "python",
   "nbconvert_exporter": "python",
   "pygments_lexer": "ipython3",
   "version": "3.10.4"
  }
 },
 "nbformat": 4,
 "nbformat_minor": 5
}
